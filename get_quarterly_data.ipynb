{
 "cells": [
  {
   "cell_type": "markdown",
   "metadata": {},
   "source": [
    "##### Raw Alpha Vantage Api (https://www.alphavantage.co/documentation/)"
   ]
  },
  {
   "cell_type": "code",
   "execution_count": 1,
   "metadata": {},
   "outputs": [],
   "source": [
    "import requests\n",
    "import json\n",
    "from io import StringIO\n",
    "import pandas as pd\n",
    "\n",
    "def save_quarterly_data(symbol, returning=False):\n",
    "    alpha_key = ''\n",
    "    with open('keys.json', 'r') as keys:\n",
    "        credentials = json.load(keys)\n",
    "        alpha_key = credentials.get('alphavantage')\n",
    "    \n",
    "    if not alpha_key: return('You need an api key for Alpha Vantage')\n",
    "    \n",
    "    values = get_data(symbol, alpha_key)\n",
    "    if values is None:\n",
    "        print(f'{symbol} not saved !!')\n",
    "        return None\n",
    "    \n",
    "    income = requests.get(f'https://www.alphavantage.co/query?function=INCOME_STATEMENT&symbol={symbol}&outputsize=full&apikey={alpha_key}')\n",
    "    if 'quarterlyReports' not in json.loads(income.text):\n",
    "        print(f'{symbol} not saved !!')\n",
    "        return None\n",
    "    income = pd.read_json(StringIO(json.dumps(json.loads(income.text)['quarterlyReports'])))\n",
    "    \n",
    "    if 'fiscalDateEnding' not in income.columns:\n",
    "        print(f'{symbol} not saved !!')\n",
    "        return None\n",
    "    \n",
    "    balance = requests.get(f'https://www.alphavantage.co/query?function=BALANCE_SHEET&symbol={symbol}&outputsize=full&apikey={alpha_key}')\n",
    "    if 'quarterlyReports' not in json.loads(balance.text):\n",
    "        print(f'{symbol} not saved !!')\n",
    "        return None\n",
    "    balance = pd.read_json(StringIO(json.dumps(json.loads(balance.text)['quarterlyReports'])))\n",
    "    \n",
    "    if 'fiscalDateEnding' not in balance.columns:\n",
    "        print(f'{symbol} not saved !!')\n",
    "        return None\n",
    "    \n",
    "    data = pd.merge(income, balance, on='fiscalDateEnding')\n",
    "    \n",
    "    cashflow = requests.get(f'https://www.alphavantage.co/query?function=CASH_FLOW&symbol={symbol}&outputsize=full&apikey={alpha_key}')\n",
    "    if 'quarterlyReports' not in json.loads(cashflow.text):\n",
    "        print(f'{symbol} not saved !!')\n",
    "        return None\n",
    "    cashflow = pd.read_json(StringIO(json.dumps(json.loads(cashflow.text)['quarterlyReports'])))\n",
    "    \n",
    "    if 'fiscalDateEnding' not in cashflow.columns:\n",
    "        print(f'{symbol} not saved !!')\n",
    "        return None\n",
    "    \n",
    "    data = pd.merge(data, cashflow, on='fiscalDateEnding')\n",
    "    \n",
    "    data = last_clossing(values, data)\n",
    "    data = append_y(data)\n",
    "    \n",
    "    try: data.to_csv(f'./datasets/fundamental_data/{symbol}.csv')\n",
    "    except: print(f'{symbol} not saved !!')\n",
    "    \n",
    "    if returning: return data"
   ]
  },
  {
   "cell_type": "code",
   "execution_count": 2,
   "metadata": {},
   "outputs": [],
   "source": [
    "def get_data(symbol, alpha_key):\n",
    "    csv = requests.get(f'https://www.alphavantage.co/query?function=TIME_SERIES_DAILY&symbol={symbol}&outputsize=full&apikey={alpha_key}&datatype=csv')\n",
    "    data = pd.read_csv(StringIO(csv.text))\n",
    "    \n",
    "    if 'timestamp' not in data.columns or 'close' not in data.columns:\n",
    "        return None\n",
    "    \n",
    "    return data[['timestamp', 'close']]"
   ]
  },
  {
   "cell_type": "code",
   "execution_count": 3,
   "metadata": {},
   "outputs": [],
   "source": [
    "def last_clossing(values, data):\n",
    "    for f in data['fiscalDateEnding']:\n",
    "        g = f\n",
    "        clossingVal = 'nan'\n",
    "        while clossingVal == 'nan':\n",
    "            try: clossingVal = values.loc[values['timestamp'] == g, 'close'].values[0]\n",
    "            except: g = g[:-2]+str(int(g[-2:])-1)\n",
    "                \n",
    "            if int(f[-2:])-int(g[-2:]) > 2: break\n",
    "        \n",
    "        data.loc[data['fiscalDateEnding'] == f, 'clossingVal'] = clossingVal\n",
    "        \n",
    "    return data"
   ]
  },
  {
   "cell_type": "code",
   "execution_count": 4,
   "metadata": {},
   "outputs": [],
   "source": [
    "def append_y(data):\n",
    "    future = None\n",
    "    for f in data['fiscalDateEnding']:\n",
    "        if future is not None: data.loc[data['fiscalDateEnding'] == f, 'nextClossingVal'] = future\n",
    "        future = data.loc[data['fiscalDateEnding'] == f, 'clossingVal'].values[0]\n",
    "        \n",
    "    return data"
   ]
  },
  {
   "cell_type": "code",
   "execution_count": 5,
   "metadata": {},
   "outputs": [],
   "source": [
    "symbols = pd.read_csv('./datasets/nasdaq_list.csv', sep='|')\n",
    "symbols = symbols[['Symbol']].to_numpy().reshape((len(symbols))).tolist()"
   ]
  },
  {
   "cell_type": "code",
   "execution_count": null,
   "metadata": {
    "scrolled": true
   },
   "outputs": [
    {
     "name": "stdout",
     "output_type": "stream",
     "text": [
      "PLW not saved !!\n"
     ]
    }
   ],
   "source": [
    "import time\n",
    "\n",
    "for symbol in symbols[2590:]:\n",
    "    save_quarterly_data(symbol)\n",
    "    time.sleep(210)"
   ]
  }
 ],
 "metadata": {
  "kernelspec": {
   "display_name": "Python 3",
   "language": "python",
   "name": "python3"
  },
  "language_info": {
   "codemirror_mode": {
    "name": "ipython",
    "version": 3
   },
   "file_extension": ".py",
   "mimetype": "text/x-python",
   "name": "python",
   "nbconvert_exporter": "python",
   "pygments_lexer": "ipython3",
   "version": "3.7.7"
  }
 },
 "nbformat": 4,
 "nbformat_minor": 4
}
